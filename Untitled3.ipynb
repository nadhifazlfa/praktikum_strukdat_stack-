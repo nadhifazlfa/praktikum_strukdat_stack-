{
  "nbformat": 4,
  "nbformat_minor": 0,
  "metadata": {
    "colab": {
      "provenance": [],
      "authorship_tag": "ABX9TyOMVaDqmp1OJfMXHRWarsI/",
      "include_colab_link": true
    },
    "kernelspec": {
      "name": "python3",
      "display_name": "Python 3"
    },
    "language_info": {
      "name": "python"
    }
  },
  "cells": [
    {
      "cell_type": "markdown",
      "metadata": {
        "id": "view-in-github",
        "colab_type": "text"
      },
      "source": [
        "<a href=\"https://colab.research.google.com/github/nadhifazlfa/praktikum_strukdat_stack-/blob/main/Untitled3.ipynb\" target=\"_parent\"><img src=\"https://colab.research.google.com/assets/colab-badge.svg\" alt=\"Open In Colab\"/></a>"
      ]
    },
    {
      "cell_type": "code",
      "execution_count": null,
      "metadata": {
        "colab": {
          "base_uri": "https://localhost:8080/"
        },
        "id": "beeAfyHROLFd",
        "outputId": "17600853-65fd-4c49-9bc4-7da0d34fb343"
      },
      "outputs": [
        {
          "output_type": "stream",
          "name": "stdout",
          "text": [
            "[5]\n"
          ]
        }
      ],
      "source": [
        "class Stack:\n",
        "  def __init__(self):\n",
        "      self.stack = []\n",
        "\n",
        "  def push(self, item):\n",
        "      self.stack.append(item)\n",
        "# Contoh penggunaan\n",
        "s = Stack()\n",
        "s.push(5)\n",
        "print(s.stack) # Output: [5]\n"
      ]
    },
    {
      "cell_type": "code",
      "source": [
        "class Stack:\n",
        "  def __init__(self):\n",
        "     self.stack = []\n",
        "\n",
        "  def pop(self):\n",
        "      if len(self.stack) == 0:\n",
        "           return \"Stack Kosong\"\n",
        "      return self.stack.pop()\n",
        "\n",
        "# Contoh penggunaan\n",
        "s = Stack()\n",
        "s.push(5)\n",
        "s.push(10)\n",
        "print(s.pop())   # Output: 10\n",
        "print(s.stack)   # Output: [5]"
      ],
      "metadata": {
        "colab": {
          "base_uri": "https://localhost:8080/",
          "height": 211
        },
        "id": "iNl0aXDlRdDy",
        "outputId": "00e0c491-139f-49f0-e2cc-14fcdd954c46"
      },
      "execution_count": null,
      "outputs": [
        {
          "output_type": "error",
          "ename": "AttributeError",
          "evalue": "'Stack' object has no attribute 'push'",
          "traceback": [
            "\u001b[0;31m---------------------------------------------------------------------------\u001b[0m",
            "\u001b[0;31mAttributeError\u001b[0m                            Traceback (most recent call last)",
            "\u001b[0;32m<ipython-input-5-688b19cbb229>\u001b[0m in \u001b[0;36m<cell line: 0>\u001b[0;34m()\u001b[0m\n\u001b[1;32m     10\u001b[0m \u001b[0;31m# Contoh penggunaan\u001b[0m\u001b[0;34m\u001b[0m\u001b[0;34m\u001b[0m\u001b[0m\n\u001b[1;32m     11\u001b[0m \u001b[0ms\u001b[0m \u001b[0;34m=\u001b[0m \u001b[0mStack\u001b[0m\u001b[0;34m(\u001b[0m\u001b[0;34m)\u001b[0m\u001b[0;34m\u001b[0m\u001b[0;34m\u001b[0m\u001b[0m\n\u001b[0;32m---> 12\u001b[0;31m \u001b[0ms\u001b[0m\u001b[0;34m.\u001b[0m\u001b[0mpush\u001b[0m \u001b[0;34m(\u001b[0m\u001b[0;36m5\u001b[0m\u001b[0;34m)\u001b[0m\u001b[0;34m\u001b[0m\u001b[0;34m\u001b[0m\u001b[0m\n\u001b[0m\u001b[1;32m     13\u001b[0m \u001b[0ms\u001b[0m\u001b[0;34m.\u001b[0m\u001b[0mpush\u001b[0m\u001b[0;34m(\u001b[0m\u001b[0;36m10\u001b[0m\u001b[0;34m)\u001b[0m\u001b[0;34m\u001b[0m\u001b[0;34m\u001b[0m\u001b[0m\n\u001b[1;32m     14\u001b[0m \u001b[0mprint\u001b[0m\u001b[0;34m(\u001b[0m\u001b[0ms\u001b[0m\u001b[0;34m.\u001b[0m\u001b[0mpop\u001b[0m\u001b[0;34m(\u001b[0m\u001b[0;34m)\u001b[0m\u001b[0;34m)\u001b[0m   \u001b[0;31m# Output: 10\u001b[0m\u001b[0;34m\u001b[0m\u001b[0;34m\u001b[0m\u001b[0m\n",
            "\u001b[0;31mAttributeError\u001b[0m: 'Stack' object has no attribute 'push'"
          ]
        }
      ]
    },
    {
      "cell_type": "code",
      "source": [
        "class Stack:\n",
        "    def __init__(self):\n",
        "        self.stack = []\n",
        "\n",
        "    def peek(self):\n",
        "        if len(self.stack) == 0:\n",
        "           return \"Stack Kosong\"\n",
        "        return self.stack[-1]\n",
        "\n",
        "# Contoh penggunaan\n",
        "s = Stack()\n",
        "s.push(5)\n",
        "s.push(10)\n",
        "print(s.peek())  # Output: 10\n",
        "print(s.stack)   # Stack tetap [5, 10]"
      ],
      "metadata": {
        "id": "W3sK6oftStG0"
      },
      "execution_count": null,
      "outputs": []
    },
    {
      "cell_type": "code",
      "source": [
        "class Stack:\n",
        "    def __init__(self):\n",
        "        self.stack = []\n",
        "\n",
        "    def is_empty(self):\n",
        "        return len(self.stack) == 0\n",
        "\n",
        "# Contoh penggunaan\n",
        "s = Stack()\n",
        "print(s.is_empty())  # Output: True\n",
        "s.push(5)\n",
        "print(s.is_empty)    # Output: False"
      ],
      "metadata": {
        "colab": {
          "base_uri": "https://localhost:8080/",
          "height": 211
        },
        "id": "ZL5D4Oz5Ti5t",
        "outputId": "8966f1fb-b39a-4cb9-b32a-8e996ceeed3d"
      },
      "execution_count": null,
      "outputs": [
        {
          "output_type": "stream",
          "name": "stdout",
          "text": [
            "True\n"
          ]
        },
        {
          "output_type": "error",
          "ename": "AttributeError",
          "evalue": "'Stack' object has no attribute 'push'",
          "traceback": [
            "\u001b[0;31m---------------------------------------------------------------------------\u001b[0m",
            "\u001b[0;31mAttributeError\u001b[0m                            Traceback (most recent call last)",
            "\u001b[0;32m<ipython-input-6-2794e10860ab>\u001b[0m in \u001b[0;36m<cell line: 0>\u001b[0;34m()\u001b[0m\n\u001b[1;32m      9\u001b[0m \u001b[0ms\u001b[0m \u001b[0;34m=\u001b[0m \u001b[0mStack\u001b[0m\u001b[0;34m(\u001b[0m\u001b[0;34m)\u001b[0m\u001b[0;34m\u001b[0m\u001b[0;34m\u001b[0m\u001b[0m\n\u001b[1;32m     10\u001b[0m \u001b[0mprint\u001b[0m\u001b[0;34m(\u001b[0m\u001b[0ms\u001b[0m\u001b[0;34m.\u001b[0m\u001b[0mis_empty\u001b[0m\u001b[0;34m(\u001b[0m\u001b[0;34m)\u001b[0m\u001b[0;34m)\u001b[0m  \u001b[0;31m# Output: True\u001b[0m\u001b[0;34m\u001b[0m\u001b[0;34m\u001b[0m\u001b[0m\n\u001b[0;32m---> 11\u001b[0;31m \u001b[0ms\u001b[0m\u001b[0;34m.\u001b[0m\u001b[0mpush\u001b[0m\u001b[0;34m(\u001b[0m\u001b[0;36m5\u001b[0m\u001b[0;34m)\u001b[0m\u001b[0;34m\u001b[0m\u001b[0;34m\u001b[0m\u001b[0m\n\u001b[0m\u001b[1;32m     12\u001b[0m \u001b[0mprint\u001b[0m\u001b[0;34m(\u001b[0m\u001b[0ms\u001b[0m\u001b[0;34m.\u001b[0m\u001b[0mis_empty\u001b[0m\u001b[0;34m)\u001b[0m    \u001b[0;31m# Output: False\u001b[0m\u001b[0;34m\u001b[0m\u001b[0;34m\u001b[0m\u001b[0m\n",
            "\u001b[0;31mAttributeError\u001b[0m: 'Stack' object has no attribute 'push'"
          ]
        }
      ]
    },
    {
      "cell_type": "code",
      "source": [
        "class TextEditor:\n",
        "    def __init__(self) :\n",
        "        self.history = []\n",
        "\n",
        "    def write(self, text):\n",
        "        self.history.append(text)\n",
        "\n",
        "    def undo(self) :\n",
        "        if self.history:\n",
        "            return f\"Undo: Menghapus '{self.history.pop()} '\"\n",
        "        return \"Tidak ada yang bisa di-undo\"\n",
        "\n",
        "# Contoh Penggunaan\n",
        "editor = TextEditor()\n",
        "editor.write(\"Halo, ini teks pertama.\")\n",
        "editor.write(\"Ini teks kedua.\")\n",
        "editor.write(\"Ini teks ketiga.\")\n",
        "\n",
        "print(editor.undo())\n",
        "print(editor.undo())"
      ],
      "metadata": {
        "colab": {
          "base_uri": "https://localhost:8080/"
        },
        "id": "cD28qZ0hWfeH",
        "outputId": "ee98b554-da1f-4545-ec0b-4f264e635c56"
      },
      "execution_count": null,
      "outputs": [
        {
          "output_type": "stream",
          "name": "stdout",
          "text": [
            "Undo: Menghapus 'Ini teks ketiga. '\n",
            "Undo: Menghapus 'Ini teks kedua. '\n"
          ]
        }
      ]
    },
    {
      "cell_type": "code",
      "source": [
        "# Latihan 1\n",
        "\n",
        "class Calculator:\n",
        "        def __init__(self, initial_value):\n",
        "           self.history = []\n",
        "           self.current_value = initial_value\n",
        "\n",
        "        def perform_operation(self, operation, value):\n",
        "            # Simpan operasi dan nilai saat ini ke dalam history\n",
        "            self.history.append((self.current_value, operation, value))\n",
        "            # Lakukan operasi\n",
        "            if operation == '+':\n",
        "               self.current_value += value\n",
        "            elif operation == '-':\n",
        "               self.current_value -= value\n",
        "            elif operation == '*':\n",
        "               self.current_value *= value\n",
        "            elif operation == '/':\n",
        "               self.current_value /= value\n",
        "            print(f\"Hasil setelah {operation} {value}: {self.current_value}\")\n",
        "\n",
        "        def undo(self):\n",
        "            if self.history:\n",
        "               # Ambil operasi terakhir dari history\n",
        "               last_value, operation, value = self.history.pop()\n",
        "               self.current_value = last_value\n",
        "               print(f\"Undo: Membatalkan {operation} {value}. Kembali ke {self.current_value}\")\n",
        "            else:\n",
        "               print(\"Tidak ada operasi yang bisa di-undo.\")\n",
        "\n",
        "    # Input dua digit terakhir NPM\n",
        "    npm = input(\"Masukkan dua digit terakhir NPM: \")\n",
        "    initial_value = int(npm)  # Angka awal adalah dua digit terakhir NPM\n",
        "\n",
        "    calculator = Calculator(initial_value)\n",
        "\n",
        "    # Lakukan minimal 3 operasi matematika\n",
        "    calculator.perform_operation('+', 12)\n",
        "    calculator.perform_operation('-', 4)\n",
        "    calculator.perform_operation('*', 8)\n",
        "\n",
        "    # Uji fitur Undo\n",
        "    calculator.undo()\n",
        "    calculator.undo()\n",
        "\n"
      ],
      "metadata": {
        "id": "zBqDW_CpaK6K",
        "colab": {
          "base_uri": "https://localhost:8080/",
          "height": 106
        },
        "outputId": "e65527df-038c-4a23-edfa-fde0e0a39729"
      },
      "execution_count": null,
      "outputs": [
        {
          "output_type": "error",
          "ename": "IndentationError",
          "evalue": "unindent does not match any outer indentation level (<tokenize>, line 32)",
          "traceback": [
            "\u001b[0;36m  File \u001b[0;32m\"<tokenize>\"\u001b[0;36m, line \u001b[0;32m32\u001b[0m\n\u001b[0;31m    npm = input(\"Masukkan dua digit terakhir NPM: \")\u001b[0m\n\u001b[0m    ^\u001b[0m\n\u001b[0;31mIndentationError\u001b[0m\u001b[0;31m:\u001b[0m unindent does not match any outer indentation level\n"
          ]
        }
      ]
    },
    {
      "cell_type": "code",
      "source": [
        "from collections import deque\n",
        "\n",
        "class BrowserHistory:\n",
        "   def __init__(self):\n",
        "       self.history = deque()\n",
        "\n",
        "   def visit(self, url):\n",
        "        self.history.append(url)\n",
        "        print(f\"Mengunjungi: {url}\")\n",
        "   def back(self):\n",
        "       if self.history:\n",
        "           print(f\"Kembali ke: {self.history.pop() }\")\n",
        "       else:\n",
        "          print(\"Tidak ada riwayat!\")\n",
        "\n",
        "# Contoh penggunaan\n",
        "browser = BrowserHistory()\n",
        "browser.visit(\"google.com\")\n",
        "browser.visit(\"youtube.com\")\n",
        "browser.visit(\"github.com\")\n",
        "\n",
        "browser.back()\n",
        "browser.back()\n"
      ],
      "metadata": {
        "colab": {
          "base_uri": "https://localhost:8080/"
        },
        "id": "5EoDocL3YUmJ",
        "outputId": "9f0d1231-3ad9-481e-ef75-77f9c9e0d977"
      },
      "execution_count": null,
      "outputs": [
        {
          "output_type": "stream",
          "name": "stdout",
          "text": [
            "Mengunjungi: google.com\n",
            "Mengunjungi: youtube.com\n",
            "Mengunjungi: github.com\n",
            "Kembali ke: github.com\n",
            "Kembali ke: youtube.com\n"
          ]
        }
      ]
    },
    {
      "cell_type": "code",
      "source": [
        "# Latihan 2\n",
        "\n",
        "from collections import deque\n",
        "\n",
        "class MobileApp:\n",
        "      def __init__(self):\n",
        "          self.history = deque()\n",
        "\n",
        "      def visit_feature(self, feature):\n",
        "          self.history.append(feature)\n",
        "          print(f\"Mengunjungi fitur: {feature}\")\n",
        "\n",
        "      def back(self):\n",
        "         if self.history:\n",
        "            print(f\"Kembali ke: {self.history.pop()}\")\n",
        "         else:\n",
        "            print(\"Tidak ada riwayat!\")\n",
        "\n",
        "   # Input huruf pertama bulan lahir dan dua digit terakhir NPM\n",
        "bulan_lahir = input(\"Masukkan huruf pertama bulan lahir: \")\n",
        "npm = input(\"Masukkan dua digit terakhir NPM: \")\n",
        "prefix = bulan_lahir[0].upper() + npm  # Format: Huruf pertama bulan + dua digit NPM\n",
        "\n",
        "app = MobileApp()\n",
        "\n",
        "   # Simpan minimal 3 fitur\n",
        "app.visit_feature(f\"{prefix}_Profile\")\n",
        "app.visit_feature(f\"{prefix}_Settings\")\n",
        "app.visit_feature(f\"{prefix}_Timeline\")\n",
        "\n",
        "   # Uji tombol Back\n",
        "app.back()\n",
        "app.back()\n",
        "\n"
      ],
      "metadata": {
        "id": "RNLe_TV4aTmt",
        "colab": {
          "base_uri": "https://localhost:8080/"
        },
        "outputId": "4834121b-e341-42db-e2f8-ed957ed49d02"
      },
      "execution_count": null,
      "outputs": [
        {
          "output_type": "stream",
          "name": "stdout",
          "text": [
            "Masukkan huruf pertama bulan lahir: J \n",
            "Masukkan dua digit terakhir NPM: 12 \n",
            "Mengunjungi fitur: J12 _Profile\n",
            "Mengunjungi fitur: J12 _Settings\n",
            "Mengunjungi fitur: J12 _Timeline\n",
            "Kembali ke: J12 _Timeline\n",
            "Kembali ke: J12 _Settings\n"
          ]
        }
      ]
    },
    {
      "cell_type": "code",
      "source": [
        "from queue import LifoQueue\n",
        "\n",
        "class BackupSystem:\n",
        "    def __init__(self):\n",
        "        self.backups = LifoQueue()\n",
        "\n",
        "    def backup(self, version):\n",
        "        self.backups.put(version)\n",
        "\n",
        "    def latest_backup(self):\n",
        "        if not self.backups.empty():\n",
        "          return f\"Versi terbaru: (self.backup.queue[-1])\"\n",
        "        return \"Tidak ada cadangan!\"\n",
        "\n",
        "# Contoh Penggunaan\n",
        "backup_system = BackupSystem()\n",
        "backup_system.backup(\"Backup_1\")\n",
        "backup_system.backup(\"Backup_2\")\n",
        "backup_system.backup(\"Backup_3\")\n",
        "\n",
        "print(backup_system.latest_backup())"
      ],
      "metadata": {
        "colab": {
          "base_uri": "https://localhost:8080/"
        },
        "id": "wtYIPVaPaVZT",
        "outputId": "3dbf9d17-116f-4c78-ff48-5810ce9a9f28"
      },
      "execution_count": null,
      "outputs": [
        {
          "output_type": "stream",
          "name": "stdout",
          "text": [
            "Versi terbaru: (self.backup.queue[-1])\n"
          ]
        }
      ]
    },
    {
      "cell_type": "code",
      "source": [
        "    # Latihan 3\n",
        "\n",
        "    from queue import LifoQueue\n",
        "\n",
        "    class EmailDraftSystem:\n",
        "       def __init__(self):\n",
        "           self.drafts = LifoQueue()\n",
        "\n",
        "       def save_draft(self, subject):\n",
        "           self.drafts.put(subject)\n",
        "           print(f\"Menambahkan draft: {subject}\")\n",
        "\n",
        "       def view_latest_draft(self):\n",
        "           if not self.drafts.empty():\n",
        "                return f\"Draft terakhir: {self.drafts.queue[-1]}\"\n",
        "           return \"Tidak ada draft yang tersedia!\"\n",
        "    # Input dua huruf pertama nama dan dua digit terakhir NPM\n",
        "    nama = input(\"Masukkan dua huruf pertama nama: \")\n",
        "    npm = input(\"Masukkan dua digit terakhir NPM: \")\n",
        "    prefix = nama[:2].upper() + npm  # Format: Dua huruf pertama nama + dua digit NPM\n",
        "\n",
        "    email_system = EmailDraftSystem()\n",
        "\n",
        "    # Simpan minimal 3 draft email\n",
        "    email_system.save_draft(f\"{prefix}_Email1\")\n",
        "    email_system.save_draft(f\"{prefix}_Email2\")\n",
        "    email_system.save_draft(f\"{prefix}_Email3\")\n",
        "\n",
        "    # Uji fitur Lihat Draft Terakhir\n",
        "    print(email_system.view_latest_draft())\n",
        "\n",
        "\n"
      ],
      "metadata": {
        "colab": {
          "base_uri": "https://localhost:8080/"
        },
        "id": "HWHbVmE1hWcJ",
        "outputId": "f2ef2621-6f7a-4c08-8323-cd496a5c0a5d"
      },
      "execution_count": null,
      "outputs": [
        {
          "output_type": "stream",
          "name": "stdout",
          "text": [
            "Masukkan dua huruf pertama nama: Na \n",
            "Masukkan dua digit terakhir NPM: 12 \n",
            "Menambahkan draft: NA12 _Email1\n",
            "Menambahkan draft: NA12 _Email2\n",
            "Menambahkan draft: NA12 _Email3\n",
            "Draft terakhir: NA12 _Email3\n"
          ]
        }
      ]
    },
    {
      "cell_type": "code",
      "source": [
        "class CustomerService:\n",
        "    def __init__(self):\n",
        "        self.tickets = []\n",
        "\n",
        "    def add_ticket(self, ticket):\n",
        "        self.tickets.append(ticket)\n",
        "\n",
        "    def process_ticket(self):\n",
        "        if not self.is_empty():\n",
        "            return f\"Memproses tiket: {self.tickets.pop() }\"\n",
        "        return \"Tidak ada yang harus diproses.\"\n",
        "\n",
        "    def is_empty(self):\n",
        "        return len(self.tickets) == 0\n",
        "\n",
        "# Contoh Penggunaan\n",
        "service = CustomerService()\n",
        "service.add_ticket(\"Tiket 001\")\n",
        "service.add_ticket(\"Tiket 002\")\n",
        "\n",
        "print(service.process_ticket())\n",
        "print(service.is_empty())"
      ],
      "metadata": {
        "colab": {
          "base_uri": "https://localhost:8080/"
        },
        "id": "Z8m8UTXiceVj",
        "outputId": "0b376cc6-7305-48a3-e5af-a924a368e401"
      },
      "execution_count": null,
      "outputs": [
        {
          "output_type": "stream",
          "name": "stdout",
          "text": [
            "Memproses tiket: Tiket 002\n",
            "False\n"
          ]
        }
      ]
    },
    {
      "cell_type": "code",
      "source": [
        "  # Latihan 4\n",
        "\n",
        "  class CinemaTicketSystem:\n",
        "    def __init__(self):\n",
        "        self.tickets = []\n",
        "\n",
        "    def buy_ticket(self, film):\n",
        "        self.tickets.append(film)\n",
        "        print(f\"Tiket untuk film '{film}' telah dibeli.\")\n",
        "\n",
        "    def process_ticket(self):\n",
        "        if self.tickets:\n",
        "            print(f\"Memproses tiket untuk film: {self.tickets.pop()}\")\n",
        "        else:\n",
        "            print(\"Tidak ada tiket yang harus diproses.\")\n",
        "\n",
        "  # Input huruf pertama bulan lahir dan dua digit terakhir NPM\n",
        "  bulan_lahir = input(\"Masukkan huruf pertama bulan lahir: \")\n",
        "  npm = input(\"Masukkan dua digit terakhir NPM: \")\n",
        "  prefix = bulan_lahir[0].upper() + npm  # Format: Huruf pertama bulan + dua digit NPM\n",
        "\n",
        "  cinema = CinemaTicketSystem()\n",
        "\n",
        "  # Input judul film yang diinginkan\n",
        "  print(\"\\nMasukkan judul film yang ingin dibeli:\")\n",
        "  film1 = input(\"Judul film 1: \")\n",
        "  film2 = input(\"Judul film 2: \")\n",
        "  film3 = input(\"Judul film 3: \")\n",
        "\n",
        "  # Beli tiket untuk film yang diinput\n",
        "  cinema.buy_ticket(f\"{prefix}_{film1}\")\n",
        "  cinema.buy_ticket(f\"{prefix}_{film2}\")\n",
        "  cinema.buy_ticket(f\"{prefix}_{film3}\")\n",
        "\n",
        "  # Uji sistem pemrosesan tiket\n",
        "  print(\"\\nMemproses tiket:\")\n",
        "  cinema.process_ticket()\n",
        "  cinema.process_ticket()\n",
        "  cinema.process_ticket()\n",
        "\n"
      ],
      "metadata": {
        "colab": {
          "base_uri": "https://localhost:8080/"
        },
        "id": "igMniENUkgeP",
        "outputId": "988ad926-637a-464d-bff2-4e1a34d47d88"
      },
      "execution_count": null,
      "outputs": [
        {
          "output_type": "stream",
          "name": "stdout",
          "text": [
            "Masukkan huruf pertama bulan lahir: J \n",
            "Masukkan dua digit terakhir NPM: 12 \n",
            "\n",
            "Masukkan judul film yang ingin dibeli:\n",
            "Judul film 1: Perayaan Mati Rasa \n",
            "Judul film 2: Mickey 17 \n",
            "Judul film 3: 1 Kakak 7 Ponakan \n",
            "Tiket untuk film 'J12 _Perayaan Mati Rasa ' telah dibeli.\n",
            "Tiket untuk film 'J12 _Mickey 17 ' telah dibeli.\n",
            "Tiket untuk film 'J12 _1 Kakak 7 Ponakan ' telah dibeli.\n",
            "\n",
            "Memproses tiket:\n",
            "Memproses tiket untuk film: J12 _1 Kakak 7 Ponakan \n",
            "Memproses tiket untuk film: J12 _Mickey 17 \n",
            "Memproses tiket untuk film: J12 _Perayaan Mati Rasa \n"
          ]
        }
      ]
    }
  ]
}